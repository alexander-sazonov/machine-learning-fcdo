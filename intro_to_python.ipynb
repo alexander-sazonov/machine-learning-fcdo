{
 "cells": [
  {
   "cell_type": "markdown",
   "id": "ae066a06",
   "metadata": {},
   "source": [
    "## Словари, их функции и методы в языке программирования Python\n",
    "### Задача 7"
   ]
  },
  {
   "cell_type": "code",
   "execution_count": 2,
   "id": "697beebd",
   "metadata": {},
   "outputs": [
    {
     "name": "stdout",
     "output_type": "stream",
     "text": [
      "My brother student \n"
     ]
    }
   ],
   "source": [
    "d={\n",
    "    'мама':'mother',\n",
    "    'папа':'father',\n",
    "    'брат':'brother', \n",
    "    'врач':'doctor',\n",
    "    'учитель':'teacher', \n",
    "    'студент':'student',\n",
    "    'Мой':'My',\n",
    "    'Моя':'My'\n",
    "} \n",
    "s = 'Мой брат студент'\n",
    "words = s.split(' ')\n",
    "en_word = ''\n",
    "for word in words:\n",
    "    en_word = en_word + d.get(word) + \" \"\n",
    "print(en_word)"
   ]
  },
  {
   "cell_type": "markdown",
   "id": "3e99d9f2",
   "metadata": {},
   "source": [
    "### Задача 6"
   ]
  },
  {
   "cell_type": "code",
   "execution_count": 5,
   "id": "c830d594",
   "metadata": {},
   "outputs": [
    {
     "name": "stdout",
     "output_type": "stream",
     "text": [
      "a\n",
      "b\n",
      "замена2\n",
      "d\n",
      "e\n",
      "замена5\n"
     ]
    }
   ],
   "source": [
    "a = ['a','b','c','d','e','f']\n",
    "d = {2:'замена2',5:'замена5',0:'замена0'}\n",
    "for key, value in d.items():\n",
    "    if 0 < key < len(a):\n",
    "        a[key] = value\n",
    "for list_item in a:\n",
    "    print(list_item)"
   ]
  },
  {
   "cell_type": "markdown",
   "id": "b342b8ee",
   "metadata": {},
   "source": [
    "### Задача 5"
   ]
  },
  {
   "cell_type": "code",
   "execution_count": 9,
   "id": "565ca2e5",
   "metadata": {},
   "outputs": [
    {
     "name": "stdout",
     "output_type": "stream",
     "text": [
      "5\n",
      "0 -> 1\n",
      "1 -> 1\n",
      "2 -> 2\n",
      "3 -> 6\n",
      "4 -> 24\n",
      "5 -> 120\n"
     ]
    }
   ],
   "source": [
    "from math import factorial\n",
    "n = int(input())\n",
    "d = {x:factorial(x) for x in range(n + 1)}\n",
    "for key, value in d.items():\n",
    "    print(f'{key} -> {value}')"
   ]
  },
  {
   "cell_type": "markdown",
   "id": "dcd05805",
   "metadata": {},
   "source": [
    "### Задача 4\n",
    "Напишите функцию вывода на экран списка a как двумерного массива: \n",
    "a = [[2,5,1],[1,8,4],[6,7,3]] \n",
    "Выведите исходный массив на экран, упорядочите каждую «строку» массива и выведите новый массив на экран, отделив его от исходного пустой строкой. "
   ]
  },
  {
   "cell_type": "code",
   "execution_count": 13,
   "id": "4ccd3832",
   "metadata": {},
   "outputs": [
    {
     "name": "stdout",
     "output_type": "stream",
     "text": [
      "[2, 5, 1]\n",
      "[1, 8, 4]\n",
      "[6, 7, 3]\n",
      "\n",
      "[1, 2, 5]\n",
      "[1, 4, 8]\n",
      "[3, 6, 7]\n"
     ]
    }
   ],
   "source": [
    "a = [[2,5,1],[1,8,4],[6,7,3]]\n",
    "for lst in a:\n",
    "    print(lst)\n",
    "print()\n",
    "for lst in a:\n",
    "    print(sorted(lst))"
   ]
  },
  {
   "cell_type": "markdown",
   "id": "06c11ce4",
   "metadata": {},
   "source": [
    "### Задача 3\n",
    "1. Напишите программу для нахождения количества слов в строке s:\n",
    "    ```s = 'Язык программирования Python'```\n",
    "2. Напишите программу, чтобы  поменять местами первое и последнее слово в строке d:\n",
    "    ```d = 'мама мыла раму' ``` Используйте метод .split. Сохраните результат в переменной d_new и выведите его."
   ]
  },
  {
   "cell_type": "code",
   "execution_count": 14,
   "id": "305ca3f4",
   "metadata": {},
   "outputs": [
    {
     "name": "stdout",
     "output_type": "stream",
     "text": [
      "3\n"
     ]
    }
   ],
   "source": [
    "#1\n",
    "s = 'Язык программирования Python'\n",
    "print(len(s.split(' ')))"
   ]
  },
  {
   "cell_type": "code",
   "execution_count": 19,
   "id": "4171528d",
   "metadata": {},
   "outputs": [
    {
     "name": "stdout",
     "output_type": "stream",
     "text": [
      "раму мыла мама\n"
     ]
    }
   ],
   "source": [
    "#2\n",
    "d = 'мама мыла раму'\n",
    "words = d.split(' ')\n",
    "d_new = f'{words[-1]} {\"\".join(words[1:-1])} {words[0]}'\n",
    "print(d_new)\n"
   ]
  },
  {
   "cell_type": "markdown",
   "id": "bfb67ef3",
   "metadata": {},
   "source": [
    "### Задача 2\n",
    "Напишите программу для создания двух новых списков из исходного списка a:\n",
    "```a=[-3,0,5,8,-4,6,1]``` \n",
    "\n",
    "Первый список должен содержать только положительные элементы исходного списка, сохраните его в переменной positiv. Второй – отрицательные элементы и 0, для него используйте переменную negativ. Выведите полученные списки на экран. "
   ]
  },
  {
   "cell_type": "code",
   "execution_count": 24,
   "id": "89078b41",
   "metadata": {},
   "outputs": [
    {
     "name": "stdout",
     "output_type": "stream",
     "text": [
      "5 8 6 1 \n",
      "-3 0 -4 "
     ]
    }
   ],
   "source": [
    "a=[-3,0,5,8,-4,6,1]\n",
    "positiv = [number for number in a if number > 0]\n",
    "negativ = [number for number in a if number <= 0]\n",
    "for number in positiv:\n",
    "    print(number, end=' ')\n",
    "print()\n",
    "for number in negativ:\n",
    "    print(number, end=' ')"
   ]
  },
  {
   "cell_type": "markdown",
   "id": "b3652839",
   "metadata": {},
   "source": [
    "### Задача 1\n",
    "1. Напишите программу для вычисления среднего арифметического элементов списка a. \n",
    "```a = [2,4,3,6,8]``` Результат сохраните в переменной m и выведите. \n",
    "2. Напишите программу для определения индекса первого вхождения элемента k в список b (без использования встроенного метода list.index(x)). \n",
    "```b = [2,3,6,4,8,4] k = 4```\n",
    "3. Напишите программу, чтобы начальный элемент списка с стал последним (без использования встроенных методов  list.pop([i]) и  list.append(x)): \n",
    "```c = [2,3,6,4,8,4]``` "
   ]
  },
  {
   "cell_type": "code",
   "execution_count": 25,
   "id": "c63c6b62",
   "metadata": {},
   "outputs": [
    {
     "name": "stdout",
     "output_type": "stream",
     "text": [
      "4.6\n"
     ]
    }
   ],
   "source": [
    "#1\n",
    "a = [2,4,3,6,8]\n",
    "print(sum(a)/len(a))"
   ]
  },
  {
   "cell_type": "code",
   "execution_count": 27,
   "id": "263665fb",
   "metadata": {},
   "outputs": [
    {
     "name": "stdout",
     "output_type": "stream",
     "text": [
      "3\n"
     ]
    }
   ],
   "source": [
    "#2\n",
    "b = [2,3,6,4,8,4]\n",
    "k = 4\n",
    "for index, item in enumerate(b):\n",
    "    if item == 4:\n",
    "        print(index)\n",
    "        break\n"
   ]
  },
  {
   "cell_type": "code",
   "execution_count": 31,
   "id": "a3e5bfec",
   "metadata": {},
   "outputs": [
    {
     "name": "stdout",
     "output_type": "stream",
     "text": [
      "3 6 4 8 4 2 "
     ]
    }
   ],
   "source": [
    "#3\n",
    "c = [2,3,6,4,8,4]\n",
    "c = c[1:] + [c[0]]\n",
    "for i in c:\n",
    "    print(i, end=' ')"
   ]
  },
  {
   "cell_type": "markdown",
   "id": "abe17720",
   "metadata": {},
   "source": [
    "## Составные инструкции на языке программирования Python"
   ]
  },
  {
   "cell_type": "markdown",
   "id": "6fe09461",
   "metadata": {},
   "source": [
    "### Задача 6\n",
    "1. Строка записана в переменную s:  \n",
    "```s = 'Антананариву'``` \n",
    "Напишите программу для нахождения количества встречающихся в строке букв «а» (без использования встроенных методов для строк), используйте переменную n для вывода результата.\n",
    "2. Строка записана в переменную m: \n",
    "```m = 'шалаш'``` \n",
    "Составьте программу, чтобы определять, считается ли введенная строка палиндромом. В результате работы программы должно появляться сообщение типа: «да», «нет». "
   ]
  },
  {
   "cell_type": "code",
   "execution_count": 33,
   "id": "33302651",
   "metadata": {},
   "outputs": [
    {
     "name": "stdout",
     "output_type": "stream",
     "text": [
      "4\n"
     ]
    }
   ],
   "source": [
    "#1\n",
    "s = 'Антананариву'\n",
    "n = 0\n",
    "for letter in s.lower():\n",
    "    if letter == 'а':\n",
    "        n += 1\n",
    "print(n)"
   ]
  },
  {
   "cell_type": "code",
   "execution_count": 40,
   "id": "5e5da949",
   "metadata": {},
   "outputs": [
    {
     "name": "stdout",
     "output_type": "stream",
     "text": [
      "да\n"
     ]
    }
   ],
   "source": [
    "#2\n",
    "m = 'шалаш'\n",
    "m_reverse = m[-1::-1]\n",
    "if m == m_reverse:\n",
    "    print('да')\n",
    "else:\n",
    "    print('нет')"
   ]
  },
  {
   "cell_type": "markdown",
   "id": "61c4df7f",
   "metadata": {},
   "source": [
    "### Задача 5\n",
    "1. Строка записана в переменную k:\n",
    "```k = 'Добро пожаловать!'``` \n",
    "Напишите программу, которая выведет на экран запись, где из исходной строки удален каждый второй символ.\n",
    "2.  Строка записана в переменную n: \n",
    "```n = 'Добро пожаловать' ```\n",
    "Напишите программу, которая выведет на экран запись, где в исходной строке вместо каждого второго символа стоит знак *. "
   ]
  },
  {
   "cell_type": "code",
   "execution_count": 41,
   "id": "8285b02b",
   "metadata": {},
   "outputs": [
    {
     "name": "stdout",
     "output_type": "stream",
     "text": [
      "Дбопжлвт!\n"
     ]
    }
   ],
   "source": [
    "#1\n",
    "k = 'Добро пожаловать!'\n",
    "print(k[::2])"
   ]
  },
  {
   "cell_type": "code",
   "execution_count": 44,
   "id": "3642178d",
   "metadata": {},
   "outputs": [
    {
     "name": "stdout",
     "output_type": "stream",
     "text": [
      "Д*б*о*п*ж*л*в*т*\n"
     ]
    }
   ],
   "source": [
    "#2\n",
    "n = 'Добро пожаловать'\n",
    "new_n = ''\n",
    "for i in range(len(n)):\n",
    "    if i % 2 != 0:\n",
    "        new_n += '*'\n",
    "    else:\n",
    "        new_n += n[i]\n",
    "print(new_n)        "
   ]
  },
  {
   "cell_type": "markdown",
   "id": "d1904f75",
   "metadata": {},
   "source": [
    "### Задача 4\n",
    "2. Строка записана в переменную d:\n",
    "```d = 'Слава' ```\n",
    "Напишите программу для выведения на экран записи, где все встречающиеся буквы «а» (заглавные или строчные) в исходной строке будут заменены на «о». "
   ]
  },
  {
   "cell_type": "code",
   "execution_count": 51,
   "id": "53c8adbe",
   "metadata": {},
   "outputs": [
    {
     "name": "stdout",
     "output_type": "stream",
     "text": [
      "Слово\n"
     ]
    }
   ],
   "source": [
    "#2 Короткий вариант\n",
    "d = 'Слава'\n",
    "new_d = ''.join([letter if letter != 'а' else 'о' for letter in d])\n",
    "print(new_d)"
   ]
  },
  {
   "cell_type": "code",
   "execution_count": 52,
   "id": "fa7c9ada",
   "metadata": {},
   "outputs": [
    {
     "name": "stdout",
     "output_type": "stream",
     "text": [
      "Слово\n"
     ]
    }
   ],
   "source": [
    "#2 линный вариант\n",
    "d = 'Слава'\n",
    "new_d = ''\n",
    "for letter in d:\n",
    "    if letter == 'а':\n",
    "        new_d += 'о'\n",
    "    else:\n",
    "        new_d += letter\n",
    "print(new_d)"
   ]
  },
  {
   "cell_type": "code",
   "execution_count": null,
   "id": "5c35f216",
   "metadata": {},
   "outputs": [],
   "source": []
  }
 ],
 "metadata": {
  "kernelspec": {
   "display_name": "Python 3 (ipykernel)",
   "language": "python",
   "name": "python3"
  },
  "language_info": {
   "codemirror_mode": {
    "name": "ipython",
    "version": 3
   },
   "file_extension": ".py",
   "mimetype": "text/x-python",
   "name": "python",
   "nbconvert_exporter": "python",
   "pygments_lexer": "ipython3",
   "version": "3.9.7"
  }
 },
 "nbformat": 4,
 "nbformat_minor": 5
}

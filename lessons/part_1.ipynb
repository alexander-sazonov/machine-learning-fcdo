{
 "cells": [
  {
   "cell_type": "markdown",
   "metadata": {
    "id": "UAQZ9sfB5V7x"
   },
   "source": [
    "## Постановка задачи\n",
    "\n",
    "Для изучения машинного обучения мы возьмем данные популярного соревнования data science с международной платформы Kaggle (https://www.kaggle.com/c/titanic).\n",
    "\n",
    "**Задача** звучит так: необходимо создать модель машинного обучения, которая предсказывает, кто из пассажиров пережил кораблекрушение «Титаника».\n",
    "\n",
    "В процессе подготовки и обучения будем использовать два датасета: \n",
    "*  **train.csv** — часть набора данных для создания модели (обучающая выборка), содержит 12 полей;\n",
    "*  **test.csv**  — часть набора данных для проверки модели (тестовая выборка), содержит 11 полей."
   ]
  },
  {
   "cell_type": "markdown",
   "metadata": {
    "id": "01qeHat55V71"
   },
   "source": [
    "### Обучающая выборка\n",
    "\n",
    "Переменные:\n",
    "\n",
    "* Passengerld — идентификатор пассажира\n",
    "* Survival    — поле, где указано, выжил человек (1) или нет (0)\n",
    "* Pclass      — класс каюты (первый класс - 1, второй класс - 2, третий класс - 3)\n",
    "* Name        — имя пассажира\n",
    "* Sex         — пол пассажира\n",
    "* Age         — возраст пассажира\n",
    "* SibSp       — количество родственников на борту 2-го порядка (братья, сестры, муж, жена)\n",
    "* Parch       — количество родственников на борту 1-го порядка (мать, отец, дети)\n",
    "* Ticket      — номер билета пассажира\n",
    "* Fare        — цена билета пассажира\n",
    "* Cabin       — поле указывает, в какой каюте размещается пассажир\n",
    "* Embarked    — порт посадки на корабль (C - Cherbourg, Q - Queenston, S - Southampton)\n"
   ]
  },
  {
   "cell_type": "markdown",
   "metadata": {
    "id": "ihmBrDRb5V72"
   },
   "source": [
    "### Представление файла [Текст ссылки](https://drive.google.com/file/d/1m_Vhx9DtQMXzH3FVt0lNPJm51SQerZ3F/view)train_mini.csv в MS Excel\n",
    "\n",
    "\n"
   ]
  },
  {
   "cell_type": "markdown",
   "metadata": {
    "id": "Bs2niSws5V72"
   },
   "source": [
    "### Подключаем основные библиотеки"
   ]
  },
  {
   "cell_type": "code",
   "execution_count": 4,
   "metadata": {
    "executionInfo": {
     "elapsed": 3,
     "status": "ok",
     "timestamp": 1628422083288,
     "user": {
      "displayName": "Женя Эм",
      "photoUrl": "",
      "userId": "12217616190692413370"
     },
     "user_tz": -120
    },
    "id": "az-7FWwR5V73"
   },
   "outputs": [],
   "source": [
    "# Библиотека Pandas предлагает очень удобные инструменты для хранения данных и работы с ними.\n",
    "import pandas as pd"
   ]
  },
  {
   "cell_type": "code",
   "execution_count": null,
   "metadata": {},
   "outputs": [],
   "source": []
  },
  {
   "cell_type": "code",
   "execution_count": 2,
   "metadata": {
    "id": "fJ9aWAd8gV-J"
   },
   "outputs": [],
   "source": []
  },
  {
   "cell_type": "markdown",
   "metadata": {
    "id": "dV0GSIz35V73"
   },
   "source": [
    "### Чтение данных из файла"
   ]
  },
  {
   "cell_type": "code",
   "execution_count": 10,
   "metadata": {
    "colab": {
     "base_uri": "https://localhost:8080/",
     "height": 374
    },
    "executionInfo": {
     "elapsed": 296,
     "status": "error",
     "timestamp": 1628422128765,
     "user": {
      "displayName": "Женя Эм",
      "photoUrl": "",
      "userId": "12217616190692413370"
     },
     "user_tz": -120
    },
    "id": "vUvGEZY2cJ3c",
    "outputId": "a279108b-4f9f-4203-94e3-fccfce62eb1d"
   },
   "outputs": [],
   "source": [
    "df = pd.read_csv(\"train.csv\", index_col = 'PassengerId') \n"
   ]
  },
  {
   "cell_type": "code",
   "execution_count": null,
   "metadata": {},
   "outputs": [],
   "source": []
  },
  {
   "cell_type": "code",
   "execution_count": null,
   "metadata": {},
   "outputs": [],
   "source": []
  },
  {
   "cell_type": "code",
   "execution_count": null,
   "metadata": {
    "id": "xp1sxXtlgUul"
   },
   "outputs": [],
   "source": []
  },
  {
   "cell_type": "code",
   "execution_count": 9,
   "metadata": {
    "colab": {
     "base_uri": "https://localhost:8080/",
     "height": 282
    },
    "executionInfo": {
     "elapsed": 411,
     "status": "error",
     "timestamp": 1628337853327,
     "user": {
      "displayName": "Женя Эм",
      "photoUrl": "",
      "userId": "12217616190692413370"
     },
     "user_tz": -120
    },
    "id": "alDVqX745V74",
    "outputId": "e8bc0398-145c-49f3-e475-8e96dbc54622"
   },
   "outputs": [],
   "source": [
    "dt = pd.read_csv(\"test.csv\", index_col = 'PassengerId')  #Загружаем данные тестовой выборки из файла test"
   ]
  },
  {
   "cell_type": "code",
   "execution_count": null,
   "metadata": {},
   "outputs": [],
   "source": []
  },
  {
   "cell_type": "code",
   "execution_count": null,
   "metadata": {},
   "outputs": [],
   "source": []
  },
  {
   "cell_type": "code",
   "execution_count": null,
   "metadata": {
    "colab": {
     "base_uri": "https://localhost:8080/",
     "height": 163
    },
    "executionInfo": {
     "elapsed": 369,
     "status": "error",
     "timestamp": 1628337063797,
     "user": {
      "displayName": "Женя Эм",
      "photoUrl": "",
      "userId": "12217616190692413370"
     },
     "user_tz": -120
    },
    "id": "vbHM1HD-5V75",
    "outputId": "f3631c37-ab3c-4e53-815c-c4859c17665d",
    "scrolled": true
   },
   "outputs": [],
   "source": [
    "df.head()  #Возвращаем строки файла train (по умолчанию первые 5)"
   ]
  },
  {
   "cell_type": "markdown",
   "metadata": {
    "id": "vJyjSnjR5V76"
   },
   "source": [
    "### Методы для вывода информации о датафрейме\n",
    "\n",
    "* **.shape**   — количество строк и колонок в датафрейме\n",
    "* **.columns** — название колонок\n",
    "* **.index**   — индексирование строк\n",
    "* **.dtypes**  — типы данных каждой колонки"
   ]
  },
  {
   "cell_type": "markdown",
   "metadata": {
    "id": "TX4HL-nU5V76"
   },
   "source": [
    "### Основная информация о датасете"
   ]
  },
  {
   "cell_type": "code",
   "execution_count": null,
   "metadata": {
    "id": "xXBkutpj5V77",
    "outputId": "90904f7d-0cad-47bc-b33b-25a9a841d906"
   },
   "outputs": [],
   "source": [
    "print(df.shape) #Размер датафрема с обучающей выборкой"
   ]
  },
  {
   "cell_type": "code",
   "execution_count": null,
   "metadata": {
    "id": "DwaeRUq75V77",
    "outputId": "26b6c2ee-7f1e-4647-8bec-01fabd31de78"
   },
   "outputs": [],
   "source": [
    "print(dt.shape) #Размер датафрема с тестовой выборкой"
   ]
  },
  {
   "cell_type": "code",
   "execution_count": null,
   "metadata": {
    "id": "XskvU3Oc5V77",
    "outputId": "f61aafbf-769c-4147-f9ca-6fe87e2e49aa",
    "scrolled": true
   },
   "outputs": [],
   "source": [
    "print(df.columns) #Названия признаков (колонок) файла train"
   ]
  },
  {
   "cell_type": "code",
   "execution_count": null,
   "metadata": {
    "id": "OYqEwJc75V78",
    "outputId": "023495b5-c8ed-419b-d0a5-40c08e464652"
   },
   "outputs": [],
   "source": [
    "print(dt.columns) #Названия признаков файла test"
   ]
  },
  {
   "cell_type": "code",
   "execution_count": null,
   "metadata": {
    "id": "i1znCF4L5V78",
    "outputId": "0b5e50f0-63ee-4741-e0e9-4b8545410835"
   },
   "outputs": [],
   "source": [
    "print(df.dtypes) #Типы данных файла train"
   ]
  },
  {
   "cell_type": "code",
   "execution_count": null,
   "metadata": {
    "id": "FgwI1ITF5V78",
    "outputId": "932a223d-95e3-4bb9-c6e5-4a088908b3ff"
   },
   "outputs": [],
   "source": [
    "print(dt.index) #Индексация строк файла test"
   ]
  },
  {
   "cell_type": "markdown",
   "metadata": {
    "id": "KILKCuD65V79"
   },
   "source": [
    "### Индексация и извлечение данных"
   ]
  },
  {
   "cell_type": "code",
   "execution_count": null,
   "metadata": {
    "id": "ZQRiM7yw5V79",
    "outputId": "d2880d35-f06c-46bd-ad39-6a05129fa1bc"
   },
   "outputs": [],
   "source": [
    "df['Survived'].head(10) #Просмотр только одного признака (Survived), вывод первых 10 элементов"
   ]
  },
  {
   "cell_type": "markdown",
   "metadata": {
    "id": "qaqKfqCy5V79"
   },
   "source": [
    "### Атрибут .loc\n",
    "Метод .loc[строка, столбец] даёт доступ к элементу по строке и по столбцу: \n",
    " 1. Одна ячейка — .loc[7, 'название столбца']\n",
    " 2. Один столбец — .loc[:,'название столбца']\n",
    " 3. Несколько стобцов — .loc[:,['название столбца','название столбцов']]\n",
    " 4. Несколько столбцов подряд (срез) — .loc[:,'login','pass']\n",
    " 5. Одна строка — .loc[1]\n",
    " 6. Все строки, начиная с заданной — .loc[1:]\n",
    " 7. Все строки до заданной — .loc[:3]\n",
    " 8. Несколько строк подряд (срез) — .loc[2:5]"
   ]
  },
  {
   "cell_type": "code",
   "execution_count": null,
   "metadata": {
    "id": "ojyJwPaP5V7-",
    "outputId": "9c9cfa36-3447-442b-8773-bc0928ff3ffa",
    "scrolled": true
   },
   "outputs": [],
   "source": [
    "df.loc[2:5, 'Pclass':'SibSp'] #Пример использования атрибута .loc"
   ]
  },
  {
   "cell_type": "code",
   "execution_count": null,
   "metadata": {
    "id": "SyKb01XE5V7-",
    "outputId": "425a40be-19ee-453d-f3a5-4d31b89dc90e"
   },
   "outputs": [],
   "source": [
    "df.iloc[2:5, 1:5] #Индексирование на основе целочисленного местоположения для выбора по позиции"
   ]
  },
  {
   "cell_type": "code",
   "execution_count": null,
   "metadata": {
    "id": "t-Zjey8U5V7-",
    "outputId": "a2d862a5-82e0-45e1-a7a3-a51ac84d3dd8",
    "scrolled": true
   },
   "outputs": [],
   "source": [
    "df[-2:] #Вывод последних строк таблицы"
   ]
  },
  {
   "cell_type": "markdown",
   "metadata": {
    "id": "umuykt2a5V7_"
   },
   "source": [
    "### Иформация о признаках"
   ]
  },
  {
   "cell_type": "code",
   "execution_count": null,
   "metadata": {
    "id": "PV9AIJ_T5V7_",
    "outputId": "1f4ffa59-97fc-4f2a-af61-7509d56b872c",
    "scrolled": true
   },
   "outputs": [],
   "source": [
    "df.head()  #Возвращение строк файла train"
   ]
  },
  {
   "cell_type": "code",
   "execution_count": null,
   "metadata": {
    "id": "ld60tIzP5V7_",
    "outputId": "4c32a7d2-4649-4c2e-9c51-4f9120a38a94"
   },
   "outputs": [],
   "source": [
    "print(df.info()) #Этот метод показывает информацию о датафрейме, включая индекс, \n",
    "# тип столбца, ненулевые значения и использование памяти."
   ]
  },
  {
   "cell_type": "code",
   "execution_count": null,
   "metadata": {
    "id": "HzeyBjEq5V8A"
   },
   "outputs": [],
   "source": [
    " dall = pd.concat([df, dt], sort=False) #Объединение обучающей и тестовой выборок df и dt и сохранение в переменную dall"
   ]
  },
  {
   "cell_type": "code",
   "execution_count": null,
   "metadata": {
    "id": "w1WyZn-65V8A",
    "outputId": "e5a921f8-6ebf-4b6f-b559-e281bec6ab22",
    "scrolled": true
   },
   "outputs": [],
   "source": [
    "df.shape #Возвращает размерность файла train"
   ]
  },
  {
   "cell_type": "code",
   "execution_count": null,
   "metadata": {
    "id": "T2c-TZbV5V8A",
    "outputId": "c7dc258c-ebee-4d28-e22e-8437f6594d08"
   },
   "outputs": [],
   "source": [
    "dt.shape #Возвращает размерность файла test"
   ]
  },
  {
   "cell_type": "code",
   "execution_count": null,
   "metadata": {
    "id": "b_bZrsMR5V8A",
    "outputId": "20eb4ead-47e6-4c65-ecb8-53561bc3c09f"
   },
   "outputs": [],
   "source": [
    "dall.shape #Возвращает размерность объедененных записей"
   ]
  },
  {
   "cell_type": "code",
   "execution_count": null,
   "metadata": {
    "id": "hRb7jvZy5V8B"
   },
   "outputs": [],
   "source": [
    "df = df.drop('Cabin', axis = 1) #Удаление колонки признака Cabin"
   ]
  },
  {
   "cell_type": "code",
   "execution_count": null,
   "metadata": {
    "id": "u4B93iDI5V8B"
   },
   "outputs": [],
   "source": [
    "df = df.dropna() #Удаление всех строк, содержащих значения None"
   ]
  },
  {
   "cell_type": "code",
   "execution_count": null,
   "metadata": {
    "id": "3drEn-vQ5V8B",
    "outputId": "e49d1846-c407-4d2a-80f9-f0a1be0e4769"
   },
   "outputs": [],
   "source": [
    "df.shape #Возвращает размерность файла train после удаления значений None и признака Cabin"
   ]
  },
  {
   "cell_type": "code",
   "execution_count": null,
   "metadata": {
    "id": "rRmjLFNk5V8C",
    "outputId": "25946982-1243-489b-c05e-7dd322057c3a",
    "scrolled": true
   },
   "outputs": [],
   "source": [
    "df['Survived'].value_counts() #Возвращает серию, содержащую количество уникальных значений"
   ]
  },
  {
   "cell_type": "code",
   "execution_count": null,
   "metadata": {
    "id": "MKaFldW05V8C"
   },
   "outputs": [],
   "source": [
    "df['Survived'] = df['Survived'].astype(bool) #Перекодировка признака Survived:  0 - не выжил, 1 - выжил"
   ]
  },
  {
   "cell_type": "code",
   "execution_count": null,
   "metadata": {
    "id": "PQpL6hHP5V8C",
    "outputId": "3d4fc74d-d577-458f-f19d-60e71b23c9cd",
    "scrolled": true
   },
   "outputs": [],
   "source": [
    "df['Survived'].value_counts() #Возвращает перекодированные значения"
   ]
  },
  {
   "cell_type": "code",
   "execution_count": null,
   "metadata": {
    "id": "1nBE0qtY5V8C"
   },
   "outputs": [],
   "source": [
    "df['Survived'] = df['Survived'].astype(int) #Перекодировка по типу"
   ]
  },
  {
   "cell_type": "code",
   "execution_count": null,
   "metadata": {
    "id": "MF2zabx05V8D",
    "outputId": "bbb05e70-0511-4c5e-84bb-4db86c2ddb53",
    "scrolled": true
   },
   "outputs": [],
   "source": [
    "df['Survived'].value_counts()"
   ]
  },
  {
   "cell_type": "code",
   "execution_count": null,
   "metadata": {
    "id": "61xH38Rc5V8D",
    "outputId": "ef113608-ebc0-4ea1-b1c6-3ac2fdb4ad42"
   },
   "outputs": [],
   "source": [
    "df['Sex'].value_counts() #Возвращаем серии колонки Sex"
   ]
  },
  {
   "cell_type": "code",
   "execution_count": null,
   "metadata": {
    "id": "YbElzPoY5V8D"
   },
   "outputs": [],
   "source": [
    "sex = {'male':0, 'female':1} #Перекодируем значения в словаре sex: male заменяем на 0, а female - 1. \n",
    "df['Sex'] = df['Sex'].map(sex) #Метод map используют для замены каждого значения в серии другим значением. В нашем случае замена из словаря sex."
   ]
  },
  {
   "cell_type": "code",
   "execution_count": null,
   "metadata": {
    "id": "tqG8xxSf5V8E",
    "outputId": "0f797845-08be-4381-da4e-d5134c0c4804"
   },
   "outputs": [],
   "source": [
    "df['Sex'].value_counts(normalize=True) #Определяем процентное соотношение мужчин и женщин"
   ]
  },
  {
   "cell_type": "code",
   "execution_count": null,
   "metadata": {
    "id": "M8SVdbzx5V8E",
    "outputId": "937e9bf3-53b7-4275-a5ce-700998ec9d42"
   },
   "outputs": [],
   "source": [
    "df['Embarked'].value_counts()  #Выводим значения признака Embarked"
   ]
  },
  {
   "cell_type": "code",
   "execution_count": null,
   "metadata": {
    "id": "Iu7uO1-b5V8E"
   },
   "outputs": [],
   "source": [
    "emb = {'Q':0, 'C':1, 'S':2} #Создаем словарь соответствия для признака\n",
    "df = df.replace({'Embarked':emb}) #Заменяем значения признака 'Embarked' на значения словаря emb"
   ]
  },
  {
   "cell_type": "code",
   "execution_count": null,
   "metadata": {
    "id": "j1rQ1VRZ5V8E",
    "outputId": "8d1961ee-a0af-4fcd-cb0d-6c27b2b570ba"
   },
   "outputs": [],
   "source": [
    "df.head() #Как видно столбец Embarked изменился и теперь мы можем рассчитать соотношение"
   ]
  },
  {
   "cell_type": "code",
   "execution_count": null,
   "metadata": {
    "id": "V0B9Is1P5V8F",
    "outputId": "546c25d0-03fe-48c6-c5aa-88836d49e536"
   },
   "outputs": [],
   "source": [
    "df.describe()# Метод .describe анализирует как числовые признаки, так и категориальные, а также наборы столбцов смешанных типов данных. \n",
    "            #Вывод зависит от представления статистических характеристик."
   ]
  },
  {
   "cell_type": "code",
   "execution_count": null,
   "metadata": {
    "id": "4as4TEiv5V8F",
    "outputId": "dea8e225-f396-4b7a-82d6-463192d293ab"
   },
   "outputs": [],
   "source": [
    "df.describe(include=['object', 'bool']) #Использование метода .describe для нечисловых признаков"
   ]
  },
  {
   "cell_type": "code",
   "execution_count": null,
   "metadata": {
    "id": "E_gTSweE5V8F",
    "outputId": "15591af7-9622-476f-c25b-1f03e53ccda2",
    "scrolled": true
   },
   "outputs": [],
   "source": [
    "df['Age'].mean() #Опеределяем средний возраст пассажиров «Титаника»"
   ]
  },
  {
   "cell_type": "code",
   "execution_count": null,
   "metadata": {
    "id": "6sS3G93G5V8G",
    "outputId": "f02e413e-0010-408d-d233-49bb5390ecd4"
   },
   "outputs": [],
   "source": [
    "df[df['Survived'] == 1].mean() #Найдем среднее значение всех признаков для выживших пассажиров"
   ]
  },
  {
   "cell_type": "code",
   "execution_count": null,
   "metadata": {
    "id": "6H2SScRH5V8G",
    "outputId": "79c11fc0-eba8-4f7f-a3ba-cb4f4c0e2121",
    "scrolled": true
   },
   "outputs": [],
   "source": [
    "df[df['Survived'] == 0]['Age'].mean() #Средний возраст погибших пассажиров"
   ]
  },
  {
   "cell_type": "code",
   "execution_count": null,
   "metadata": {
    "id": "4t_ahziD5V8G",
    "outputId": "570fe5c0-6a5d-490c-d71e-a69e96b1da33"
   },
   "outputs": [],
   "source": [
    "df[(df['Survived'] == 1) & (df['Sex'] == 1)]['Fare'].min() #Средний возраст выживших пассажиров-мужчин по стоимости билета (Fare)"
   ]
  },
  {
   "cell_type": "code",
   "execution_count": null,
   "metadata": {
    "id": "CsUYs_fQ5V8H"
   },
   "outputs": [],
   "source": [
    "import numpy as np #Подключение библиотеки Numpy"
   ]
  },
  {
   "cell_type": "code",
   "execution_count": null,
   "metadata": {
    "id": "zMknEkuS5V8H",
    "outputId": "611148f0-f11a-45bb-ca2a-2b45b3837fa2"
   },
   "outputs": [],
   "source": [
    "df.apply(np.max)  #Метод .max выводит максимальные данные признаков в датафрейме"
   ]
  },
  {
   "cell_type": "code",
   "execution_count": null,
   "metadata": {
    "id": "76cTOKzk5V8H",
    "outputId": "df2ce807-7ac7-4455-bcbb-059e73046796"
   },
   "outputs": [],
   "source": [
    "df.apply(np.max)['Age'] #Определяем максимальный возраст среди пассажиров"
   ]
  },
  {
   "cell_type": "code",
   "execution_count": null,
   "metadata": {
    "id": "eOBcSaoY5V8I",
    "outputId": "24113ddb-dd67-42f2-d6f1-9dd64ba367d5"
   },
   "outputs": [],
   "source": [
    "np.mean(df,0)['Age'] #Находим средний возраст в датафрейме train "
   ]
  },
  {
   "cell_type": "code",
   "execution_count": null,
   "metadata": {
    "id": "N-DxuT1l5V8I",
    "outputId": "5dd1abf3-aa6f-4a10-f9cf-b8593021bf90"
   },
   "outputs": [],
   "source": [
    "np.mean(dt,0)['Age'] #Находим средний возраст в датафрейме test"
   ]
  },
  {
   "cell_type": "code",
   "execution_count": null,
   "metadata": {
    "id": "1YKt-3LW5V8I",
    "outputId": "916ed545-97b5-4501-d3a0-8d8c4a43d3c4"
   },
   "outputs": [],
   "source": [
    "np.mean(dall,0)['Age'] #Находим средний возраст в объединенном датафрейме dall"
   ]
  },
  {
   "cell_type": "code",
   "execution_count": null,
   "metadata": {
    "id": "86MgHJTw5V8I",
    "outputId": "60f43eba-4806-4410-af36-a1b5ce5e0dd4",
    "scrolled": true
   },
   "outputs": [],
   "source": [
    "df[df['Fare'].apply(lambda fare: fare > 100)].head() #Используем функцию labda, чтобы посмотреть признак fare > 100"
   ]
  },
  {
   "cell_type": "markdown",
   "metadata": {
    "id": "_pC82KOe5V8J"
   },
   "source": [
    "### Сортировка"
   ]
  },
  {
   "cell_type": "code",
   "execution_count": null,
   "metadata": {
    "id": "6LC1nypR5V8J",
    "outputId": "e426332d-88f8-494f-c957-366a69d1a44e",
    "scrolled": true
   },
   "outputs": [],
   "source": [
    "df.sort_values(by = 'Pclass', ascending = True).head() #Сортировка пассажиров по возрастанию значения признака Pclass (asceding = True), аргумент asceding = False сортирует данные по убыванию признака. "
   ]
  },
  {
   "cell_type": "code",
   "execution_count": null,
   "metadata": {
    "id": "-SRc6H3D5V8J",
    "outputId": "031df9a4-c7fa-4eab-9ef7-06e29b1d735d",
    "scrolled": true
   },
   "outputs": [],
   "source": [
    "df.sort_values(by = ['Survived', 'Fare'], ascending = [True, False]).head #Cортировка датафрейма по двум признакам"
   ]
  },
  {
   "cell_type": "markdown",
   "metadata": {
    "id": "ZlGr-Rtz5V8K"
   },
   "source": [
    "### Методы группировки данных"
   ]
  },
  {
   "cell_type": "code",
   "execution_count": null,
   "metadata": {
    "id": "9bcLXRyy5V8K",
    "outputId": "693c9a35-81c6-45f6-cfcc-8c400d86912d"
   },
   "outputs": [],
   "source": [
    "columns_to_show = ['Age', 'Fare']\n",
    "df.groupby(['Survived'])[columns_to_show].describe(percentiles=[]) #Метод .groupby группирует данные по признаку Survived. Аргумент percentiles пропускает квартили"
   ]
  },
  {
   "cell_type": "code",
   "execution_count": null,
   "metadata": {
    "id": "F-wRLHO25V8K",
    "outputId": "3f3e1e49-e437-4627-8da6-0583fc6f9cb9"
   },
   "outputs": [],
   "source": [
    "#Метод .agg позволяет точнее задать необходимые статистические характеристики\n",
    "df.groupby(['Survived'])[columns_to_show].agg([np.mean, np.std, np.min, np.max])"
   ]
  },
  {
   "cell_type": "markdown",
   "metadata": {
    "id": "vLfBoG4w5V8L"
   },
   "source": [
    "### Методы создания сводных таблиц"
   ]
  },
  {
   "cell_type": "code",
   "execution_count": null,
   "metadata": {
    "id": "Uo5B6mzk5V8L",
    "outputId": "2cd95413-fd77-4c16-8b25-b52b0b87513d",
    "scrolled": true
   },
   "outputs": [],
   "source": [
    "#Метод .crosstab создает сводную таблицу \n",
    "pd.crosstab(df['Survived'], df['Pclass']) #Создаем сводную таблицу по признакам класса проезда пассажира и выживанию"
   ]
  },
  {
   "cell_type": "code",
   "execution_count": null,
   "metadata": {
    "id": "m-6-MW2I5V8L",
    "outputId": "4de8342b-05af-4d34-c4af-b2539b34faf8"
   },
   "outputs": [],
   "source": [
    "#Методом .pivot_table также можно создать сводную таблицу. В первых аргументах записаны интересующие признаки. В аргументе aggfunc сохраняем признак, по которому идет ранжирование (медиана)\n",
    "df.pivot_table(['Age', \n",
    "                'Fare'], ['Pclass'], \n",
    "               aggfunc='median').head()"
   ]
  },
  {
   "cell_type": "markdown",
   "metadata": {
    "id": "92r90x9E5V8M"
   },
   "source": [
    "### Добавление новых признаков"
   ]
  },
  {
   "cell_type": "code",
   "execution_count": null,
   "metadata": {
    "id": "q3XA0Rld5V8M",
    "outputId": "1db7bc52-bea1-4d4e-d4cc-719bf125843c"
   },
   "outputs": [],
   "source": [
    "df.head()"
   ]
  },
  {
   "cell_type": "code",
   "execution_count": null,
   "metadata": {
    "id": "Fwt7m8q85V8M",
    "outputId": "f5583f05-e32e-44ea-9760-010e6f132914"
   },
   "outputs": [],
   "source": [
    "#insert - позволяет добавить новый признак\n",
    "smth = df['Age'] + df['Fare'] + \\\n",
    "              df['Parch'] + df['Embarked']\n",
    "df.insert(loc=len(df.columns), column='Smth', value=smth) #Добавляем в конец призрак Smth, в котором складываются Age, Fare, Parch, Embarked \n",
    "df.head()"
   ]
  },
  {
   "cell_type": "code",
   "execution_count": null,
   "metadata": {
    "id": "3SXRjf2a5V8N",
    "outputId": "731e04a0-494c-40b7-d0a6-e896755263ee"
   },
   "outputs": [],
   "source": [
    "#Второй способ добавить признак в базу данных\n",
    "df['One_more'] = df['Age'] + df['Fare'] + \\\n",
    "              df['Parch'] + df['Embarked']\n",
    "df.head()"
   ]
  }
 ],
 "metadata": {
  "colab": {
   "collapsed_sections": [
    "KILKCuD65V79",
    "qaqKfqCy5V79",
    "umuykt2a5V7_",
    "_pC82KOe5V8J",
    "ZlGr-Rtz5V8K",
    "vLfBoG4w5V8L",
    "92r90x9E5V8M"
   ],
   "name": "part_1.ipynb",
   "provenance": []
  },
  "kernelspec": {
   "display_name": "Python 3 (ipykernel)",
   "language": "python",
   "name": "python3"
  },
  "language_info": {
   "codemirror_mode": {
    "name": "ipython",
    "version": 3
   },
   "file_extension": ".py",
   "mimetype": "text/x-python",
   "name": "python",
   "nbconvert_exporter": "python",
   "pygments_lexer": "ipython3",
   "version": "3.9.7"
  }
 },
 "nbformat": 4,
 "nbformat_minor": 1
}

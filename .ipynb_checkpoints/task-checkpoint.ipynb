{
 "cells": [
  {
   "cell_type": "markdown",
   "metadata": {},
   "source": [
    "**Задание 1**\n",
    "\n",
    "Мы будем работать с исходными файлами «train.csv» — датасет с обучающей выборкой, и файлом «test.csv» — данные контрольной выборки. Создайте модель машинного обучения, предсказывающую, кто из пассажиров пережил кораблекрушение «Титаника». Используйте метод логистической регрессии и определите:\n",
    "- точность прогноза в процентах, результат сохраните в переменной **acc_log** \n",
    "- прогнозные значения для 5, 6 и 7 строк тестового набора данных (1 – потенциально выживший, 0 – потенциально не выживший), результат сохраните в переменной **Y_pred** \n",
    "\n",
    "\n",
    "Используйте классификатор «логистической регрессии» **LogisticRegression** из библиотеки **sklearn.linear_model** для создания модели. Сначала загрузим данные из файлов в датафреймы **df** и **dt** и подготовим для использования в логистической регрессии:\n"
   ]
  },
  {
   "cell_type": "code",
   "execution_count": 4,
   "metadata": {},
   "outputs": [],
   "source": [
    "import pandas as pd \n",
    "from sklearn.linear_model import LogisticRegression \n",
    "df = pd.read_csv(\"train.csv\") \n",
    "dt = pd.read_csv(\"test.csv\") \n",
    " \n",
    "df = df.drop(['PassengerId', 'Name', 'Cabin', 'Ticket'], axis = 1) \n",
    "dt = dt.drop(['PassengerId', 'Name', 'Cabin', 'Ticket'], axis = 1) \n",
    " \n",
    "df = df.dropna(axis = 0, subset=['Embarked']) \n",
    "dt['Fare'] = dt['Fare'].fillna(df['Fare'].mean()) \n",
    "dt['Age'] = dt['Age'].fillna(df['Age'].median()) \n",
    "df['Age'] = df['Age'].fillna(df['Age'].median()) \n",
    " \n",
    "genders = {\"male\": 0, \"female\": 1} \n",
    "df['Sex'] = df['Sex'].map(genders) \n",
    "dt['Sex'] = dt['Sex'].map(genders)    \n",
    " \n",
    "ports = {\"S\": 0, \"C\": 1, \"Q\": 2} \n",
    "df['Embarked'] = df['Embarked'].map(ports) \n",
    "dt['Embarked'] = dt['Embarked'].map(ports) \n",
    " \n",
    "pd.qcut(df.Fare, 5).value_counts().sort_index(ascending = True).reset_index() \n",
    " \n",
    "data = [df, dt] \n",
    "for dataset in data: \n",
    "    dataset.loc[ dataset['Fare'] <= 7.854, 'Fare'] = 0 \n",
    "    dataset.loc[(dataset['Fare'] > 7.854) & (dataset['Fare'] <= 10.5), 'Fare'] = 1 \n",
    "    dataset.loc[(dataset['Fare'] > 10.5) & (dataset['Fare'] <= 21.075), 'Fare']   = 2 \n",
    "    dataset.loc[(dataset['Fare'] > 21.075) & (dataset['Fare'] <= 39.688), 'Fare']   = 3 \n",
    "    dataset.loc[(dataset['Fare'] > 39.688), 'Fare']   = 4 \n",
    "    dataset['Fare'] = dataset['Fare'].astype(int) \n",
    " \n",
    "pd.qcut(df.Age, 4).value_counts().sort_index(ascending = True).reset_index() \n",
    "data = [df, df] \n",
    "for dataset in data: \n",
    "    dataset['Age'] = dataset['Age'].astype(int) \n",
    "    dataset.loc[ dataset['Age'] <= 22, 'Age'] = 0 \n",
    "    dataset.loc[(dataset['Age'] > 22) & (dataset['Age'] <= 28), 'Age'] = 1 \n",
    "    dataset.loc[(dataset['Age'] > 28) & (dataset['Age'] <= 35), 'Age'] = 2 \n",
    "    dataset.loc[(dataset['Age'] > 35), 'Age'] = 3 \n",
    " \n",
    "X_train = df.drop(\"Survived\", axis = 1) \n",
    "Y_train = df[\"Survived\"]  \n",
    "X_test = dt.copy() "
   ]
  },
  {
   "cell_type": "markdown",
   "metadata": {},
   "source": [
    "Постройте модель со следующими параметрами: \n",
    "- максимальное количество итераций – **max_iter=200**; \n",
    "- допуск для критерия остановки – **tol=0.001**; \n",
    "- алгоритм для задачи оптимизации – **solver='lbfgs'**.\n",
    "\n",
    "После создания модели выведите результат переменных **acc_log** и **Y_pred**.\n"
   ]
  },
  {
   "cell_type": "code",
   "execution_count": 13,
   "metadata": {},
   "outputs": [
    {
     "name": "stdout",
     "output_type": "stream",
     "text": [
      "79.41507311586051\n",
      "[0 1 0]\n"
     ]
    }
   ],
   "source": [
    "model = LogisticRegression(max_iter = 200, tol = 0.001, solver = 'lbfgs')\n",
    "model.fit(X_train, Y_train)\n",
    "acc_log = model.score(X_train, Y_train) * 100\n",
    "Y_pred = model.predict(X_test.loc[5:7,:])\n",
    "print(acc_log)\n",
    "print(Y_pred)"
   ]
  },
  {
   "cell_type": "markdown",
   "metadata": {},
   "source": [
    "**Задание 2**\n",
    "\n",
    "Работаем с уже известными файлами «train.csv» и «test.csv». Создайте модель машинного обучения методом дерева решений. Задача модели — предсказать, кто из пассажиров пережил кораблекрушение «Титаника». Используйте классификатор «дерево решений» – DecisionTreeClassifier из библиотеки sklearn.tree и определите:\n",
    "- точность прогноза в процентах, результат округлите до двух цифр после запятой и сохраните в переменной **acc_decision_tree**\n",
    "- прогнозные значения для первых трёх строк тестового набора данных (1 – потенциально выживший, 0 – потенциально не выживший), результат сохраните в переменной **Y_pred**\n",
    "\n",
    "Загрузим данные в датафреймы **df** и **dt** и подготовим для использования с деревом решений:"
   ]
  },
  {
   "cell_type": "code",
   "execution_count": 15,
   "metadata": {},
   "outputs": [],
   "source": [
    "import pandas as pd \n",
    "from sklearn.tree import DecisionTreeClassifier \n",
    "df = pd.read_csv(\"train.csv\") \n",
    "dt = pd.read_csv(\"test.csv\") \n",
    " \n",
    "df = df.drop(['PassengerId', 'Name', 'Cabin', 'Ticket'], axis = 1) \n",
    "dt = dt.drop(['PassengerId', 'Name', 'Cabin', 'Ticket'], axis = 1) \n",
    " \n",
    "df = df.dropna(axis = 0, subset=['Embarked']) \n",
    "dt['Fare'] = dt['Fare'].fillna(df['Fare'].mean()) \n",
    "dt['Age'] = dt['Age'].fillna(df['Age'].median()) \n",
    "df['Age'] = df['Age'].fillna(df['Age'].median()) \n",
    " \n",
    "genders = {\"male\": 0, \"female\": 1} \n",
    "df['Sex'] = df['Sex'].map(genders) \n",
    "dt['Sex'] = dt['Sex'].map(genders)    \n",
    " \n",
    "ports = {\"S\": 0, \"C\": 1, \"Q\": 2} \n",
    "df['Embarked'] = df['Embarked'].map(ports) \n",
    "dt['Embarked'] = dt['Embarked'].map(ports) \n",
    " \n",
    "pd.qcut(df.Fare, 5).value_counts().sort_index(ascending = True).reset_index() \n",
    " \n",
    "data = [df, dt] \n",
    "for dataset in data: \n",
    "    dataset.loc[ dataset['Fare'] <= 7.854, 'Fare'] = 0 \n",
    "    dataset.loc[(dataset['Fare'] > 7.854) & (dataset['Fare'] <= 10.5), 'Fare'] = 1 \n",
    "    dataset.loc[(dataset['Fare'] > 10.5) & (dataset['Fare'] <= 21.075), 'Fare']   = 2 \n",
    "    dataset.loc[(dataset['Fare'] > 21.075) & (dataset['Fare'] <= 39.688), 'Fare']   = 3 \n",
    "    dataset.loc[(dataset['Fare'] > 39.688), 'Fare']   = 4 \n",
    "    dataset['Fare'] = dataset['Fare'].astype(int) \n",
    " \n",
    "pd.qcut(df.Age, 4).value_counts().sort_index(ascending = True).reset_index() \n",
    "data = [df, df] \n",
    "for dataset in data: \n",
    "    dataset['Age'] = dataset['Age'].astype(int) \n",
    "    dataset.loc[ dataset['Age'] <= 22, 'Age'] = 0 \n",
    "    dataset.loc[(dataset['Age'] > 22) & (dataset['Age'] <= 28), 'Age'] = 1 \n",
    "    dataset.loc[(dataset['Age'] > 28) & (dataset['Age'] <= 35), 'Age'] = 2 \n",
    "    dataset.loc[(dataset['Age'] > 35), 'Age'] = 3 \n",
    " \n",
    "X_train = df.drop(\"Survived\", axis = 1) \n",
    "Y_train = df[\"Survived\"]  \n",
    "X_test = dt.copy() "
   ]
  },
  {
   "cell_type": "markdown",
   "metadata": {},
   "source": [
    "Создайте модель, используя классификатор «дерево решений» – **DecisionTreeClassifier**. После создания модели выведите результат переменных **acc_decision_tree** и **Y_pred**."
   ]
  },
  {
   "cell_type": "code",
   "execution_count": 20,
   "metadata": {},
   "outputs": [
    {
     "name": "stdout",
     "output_type": "stream",
     "text": [
      "85.49\n",
      "[0 1 0]\n"
     ]
    }
   ],
   "source": [
    "model = DecisionTreeClassifier().fit(X_train, Y_train)\n",
    "acc_decision_tree = round(model.score(X_train, Y_train) * 100, 2)\n",
    "Y_pred = model.predict(X_test.loc[0:2,:])\n",
    "print(acc_decision_tree)\n",
    "print(Y_pred)"
   ]
  },
  {
   "cell_type": "code",
   "execution_count": null,
   "metadata": {},
   "outputs": [],
   "source": []
  }
 ],
 "metadata": {
  "kernelspec": {
   "display_name": "Python 3 (ipykernel)",
   "language": "python",
   "name": "python3"
  },
  "language_info": {
   "codemirror_mode": {
    "name": "ipython",
    "version": 3
   },
   "file_extension": ".py",
   "mimetype": "text/x-python",
   "name": "python",
   "nbconvert_exporter": "python",
   "pygments_lexer": "ipython3",
   "version": "3.9.7"
  }
 },
 "nbformat": 4,
 "nbformat_minor": 4
}

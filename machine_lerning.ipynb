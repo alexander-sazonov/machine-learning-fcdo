{
 "cells": [
  {
   "cell_type": "markdown",
   "id": "c898764f",
   "metadata": {},
   "source": [
    "# Машинное обучение на Python"
   ]
  },
  {
   "cell_type": "markdown",
   "id": "7ce2290a",
   "metadata": {},
   "source": [
    "### Задача1\n",
    "1. В этой и следующих задачах мы используем упрощенный датасет train_mini.csv. Он содержит данные обучающей выборки пассажиров «Титаника». Сначала загрузите данные из файла в датафрейм df:\n",
    "```import pandas as pd \n",
    "df = pd.read_csv(\"train_mini.csv\")``` \n",
    "Найдите максимальное значение поля Fare — цена билета пассажира. Округлите его до целого значения, используйте функцию round(). Найденное значение запишите в переменную max.\n",
    "\n",
    "2. По умолчанию датафрейм train_mini.csv отсортирован по полю PassengerId. Выведите 6 строк значения поля PassengerId которых находятся в диапазоне от 23 до 27, затем найдите среднее арифметическое шести значений расположенных в поле Age (обратите внимание, index начинается с 0, а значения поля PassengerId с 1). Сохраните среднее значение в переменной mean. \n",
    "\n",
    "Выведите результаты работы кода через пробел: max, mean. "
   ]
  },
  {
   "cell_type": "code",
   "execution_count": 64,
   "id": "bdf0b758",
   "metadata": {},
   "outputs": [
    {
     "data": {
      "text/html": [
       "<div>\n",
       "<style scoped>\n",
       "    .dataframe tbody tr th:only-of-type {\n",
       "        vertical-align: middle;\n",
       "    }\n",
       "\n",
       "    .dataframe tbody tr th {\n",
       "        vertical-align: top;\n",
       "    }\n",
       "\n",
       "    .dataframe thead th {\n",
       "        text-align: right;\n",
       "    }\n",
       "</style>\n",
       "<table border=\"1\" class=\"dataframe\">\n",
       "  <thead>\n",
       "    <tr style=\"text-align: right;\">\n",
       "      <th></th>\n",
       "      <th>Unnamed: 0</th>\n",
       "      <th>PassengerId</th>\n",
       "      <th>Survived</th>\n",
       "      <th>Pclass</th>\n",
       "      <th>Name</th>\n",
       "      <th>Sex</th>\n",
       "      <th>Age</th>\n",
       "      <th>SibSp</th>\n",
       "      <th>Parch</th>\n",
       "      <th>Ticket</th>\n",
       "      <th>Fare</th>\n",
       "      <th>Cabin</th>\n",
       "      <th>Embarked</th>\n",
       "    </tr>\n",
       "  </thead>\n",
       "  <tbody>\n",
       "    <tr>\n",
       "      <th>0</th>\n",
       "      <td>0</td>\n",
       "      <td>1</td>\n",
       "      <td>0</td>\n",
       "      <td>3</td>\n",
       "      <td>Sage, Master. Thomas Henry</td>\n",
       "      <td>male</td>\n",
       "      <td>NaN</td>\n",
       "      <td>8</td>\n",
       "      <td>2</td>\n",
       "      <td>CA. 2343</td>\n",
       "      <td>69.5500</td>\n",
       "      <td>NaN</td>\n",
       "      <td>S</td>\n",
       "    </tr>\n",
       "    <tr>\n",
       "      <th>1</th>\n",
       "      <td>1</td>\n",
       "      <td>2</td>\n",
       "      <td>0</td>\n",
       "      <td>2</td>\n",
       "      <td>Mallet, Mr. Albert</td>\n",
       "      <td>male</td>\n",
       "      <td>31.0</td>\n",
       "      <td>1</td>\n",
       "      <td>1</td>\n",
       "      <td>S.C./PARIS 2079</td>\n",
       "      <td>37.0042</td>\n",
       "      <td>NaN</td>\n",
       "      <td>C</td>\n",
       "    </tr>\n",
       "    <tr>\n",
       "      <th>2</th>\n",
       "      <td>2</td>\n",
       "      <td>3</td>\n",
       "      <td>0</td>\n",
       "      <td>2</td>\n",
       "      <td>Mudd, Mr. Thomas Charles</td>\n",
       "      <td>male</td>\n",
       "      <td>16.0</td>\n",
       "      <td>0</td>\n",
       "      <td>0</td>\n",
       "      <td>S.O./P.P. 3</td>\n",
       "      <td>10.5000</td>\n",
       "      <td>NaN</td>\n",
       "      <td>S</td>\n",
       "    </tr>\n",
       "    <tr>\n",
       "      <th>3</th>\n",
       "      <td>3</td>\n",
       "      <td>4</td>\n",
       "      <td>1</td>\n",
       "      <td>1</td>\n",
       "      <td>McGough, Mr. James Robert</td>\n",
       "      <td>male</td>\n",
       "      <td>36.0</td>\n",
       "      <td>0</td>\n",
       "      <td>0</td>\n",
       "      <td>PC 17473</td>\n",
       "      <td>26.2875</td>\n",
       "      <td>E25</td>\n",
       "      <td>S</td>\n",
       "    </tr>\n",
       "    <tr>\n",
       "      <th>4</th>\n",
       "      <td>4</td>\n",
       "      <td>5</td>\n",
       "      <td>1</td>\n",
       "      <td>1</td>\n",
       "      <td>Bazzani, Miss. Albina</td>\n",
       "      <td>female</td>\n",
       "      <td>32.0</td>\n",
       "      <td>0</td>\n",
       "      <td>0</td>\n",
       "      <td>11813</td>\n",
       "      <td>76.2917</td>\n",
       "      <td>D15</td>\n",
       "      <td>C</td>\n",
       "    </tr>\n",
       "    <tr>\n",
       "      <th>...</th>\n",
       "      <td>...</td>\n",
       "      <td>...</td>\n",
       "      <td>...</td>\n",
       "      <td>...</td>\n",
       "      <td>...</td>\n",
       "      <td>...</td>\n",
       "      <td>...</td>\n",
       "      <td>...</td>\n",
       "      <td>...</td>\n",
       "      <td>...</td>\n",
       "      <td>...</td>\n",
       "      <td>...</td>\n",
       "      <td>...</td>\n",
       "    </tr>\n",
       "    <tr>\n",
       "      <th>95</th>\n",
       "      <td>95</td>\n",
       "      <td>96</td>\n",
       "      <td>1</td>\n",
       "      <td>1</td>\n",
       "      <td>Maioni, Miss. Roberta</td>\n",
       "      <td>female</td>\n",
       "      <td>16.0</td>\n",
       "      <td>0</td>\n",
       "      <td>0</td>\n",
       "      <td>110152</td>\n",
       "      <td>86.5000</td>\n",
       "      <td>B79</td>\n",
       "      <td>S</td>\n",
       "    </tr>\n",
       "    <tr>\n",
       "      <th>96</th>\n",
       "      <td>96</td>\n",
       "      <td>97</td>\n",
       "      <td>0</td>\n",
       "      <td>2</td>\n",
       "      <td>Banfield, Mr. Frederick James</td>\n",
       "      <td>male</td>\n",
       "      <td>28.0</td>\n",
       "      <td>0</td>\n",
       "      <td>0</td>\n",
       "      <td>C.A./SOTON 34068</td>\n",
       "      <td>10.5000</td>\n",
       "      <td>NaN</td>\n",
       "      <td>S</td>\n",
       "    </tr>\n",
       "    <tr>\n",
       "      <th>97</th>\n",
       "      <td>97</td>\n",
       "      <td>98</td>\n",
       "      <td>0</td>\n",
       "      <td>3</td>\n",
       "      <td>Peduzzi, Mr. Joseph</td>\n",
       "      <td>male</td>\n",
       "      <td>NaN</td>\n",
       "      <td>0</td>\n",
       "      <td>0</td>\n",
       "      <td>A/5 2817</td>\n",
       "      <td>8.0500</td>\n",
       "      <td>NaN</td>\n",
       "      <td>S</td>\n",
       "    </tr>\n",
       "    <tr>\n",
       "      <th>98</th>\n",
       "      <td>98</td>\n",
       "      <td>99</td>\n",
       "      <td>0</td>\n",
       "      <td>3</td>\n",
       "      <td>Palsson, Miss. Stina Viola</td>\n",
       "      <td>female</td>\n",
       "      <td>3.0</td>\n",
       "      <td>3</td>\n",
       "      <td>1</td>\n",
       "      <td>349909</td>\n",
       "      <td>21.0750</td>\n",
       "      <td>NaN</td>\n",
       "      <td>S</td>\n",
       "    </tr>\n",
       "    <tr>\n",
       "      <th>99</th>\n",
       "      <td>99</td>\n",
       "      <td>100</td>\n",
       "      <td>0</td>\n",
       "      <td>3</td>\n",
       "      <td>Hakkarainen, Mr. Pekka Pietari</td>\n",
       "      <td>male</td>\n",
       "      <td>28.0</td>\n",
       "      <td>1</td>\n",
       "      <td>0</td>\n",
       "      <td>STON/O2. 3101279</td>\n",
       "      <td>15.8500</td>\n",
       "      <td>NaN</td>\n",
       "      <td>S</td>\n",
       "    </tr>\n",
       "  </tbody>\n",
       "</table>\n",
       "<p>100 rows × 13 columns</p>\n",
       "</div>"
      ],
      "text/plain": [
       "    Unnamed: 0  PassengerId  Survived  Pclass                            Name  \\\n",
       "0            0            1         0       3      Sage, Master. Thomas Henry   \n",
       "1            1            2         0       2              Mallet, Mr. Albert   \n",
       "2            2            3         0       2        Mudd, Mr. Thomas Charles   \n",
       "3            3            4         1       1       McGough, Mr. James Robert   \n",
       "4            4            5         1       1           Bazzani, Miss. Albina   \n",
       "..         ...          ...       ...     ...                             ...   \n",
       "95          95           96         1       1           Maioni, Miss. Roberta   \n",
       "96          96           97         0       2   Banfield, Mr. Frederick James   \n",
       "97          97           98         0       3             Peduzzi, Mr. Joseph   \n",
       "98          98           99         0       3      Palsson, Miss. Stina Viola   \n",
       "99          99          100         0       3  Hakkarainen, Mr. Pekka Pietari   \n",
       "\n",
       "       Sex   Age  SibSp  Parch            Ticket     Fare Cabin Embarked  \n",
       "0     male   NaN      8      2          CA. 2343  69.5500   NaN        S  \n",
       "1     male  31.0      1      1   S.C./PARIS 2079  37.0042   NaN        C  \n",
       "2     male  16.0      0      0       S.O./P.P. 3  10.5000   NaN        S  \n",
       "3     male  36.0      0      0          PC 17473  26.2875   E25        S  \n",
       "4   female  32.0      0      0             11813  76.2917   D15        C  \n",
       "..     ...   ...    ...    ...               ...      ...   ...      ...  \n",
       "95  female  16.0      0      0            110152  86.5000   B79        S  \n",
       "96    male  28.0      0      0  C.A./SOTON 34068  10.5000   NaN        S  \n",
       "97    male   NaN      0      0          A/5 2817   8.0500   NaN        S  \n",
       "98  female   3.0      3      1            349909  21.0750   NaN        S  \n",
       "99    male  28.0      1      0  STON/O2. 3101279  15.8500   NaN        S  \n",
       "\n",
       "[100 rows x 13 columns]"
      ]
     },
     "execution_count": 64,
     "metadata": {},
     "output_type": "execute_result"
    }
   ],
   "source": [
    "import pandas as pd\n",
    "df = pd.read_csv(\"train_mini.csv\")\n",
    "df"
   ]
  },
  {
   "cell_type": "code",
   "execution_count": 65,
   "id": "d315f095",
   "metadata": {},
   "outputs": [],
   "source": [
    "#1\n",
    "max = round(df['Fare'].max())"
   ]
  },
  {
   "cell_type": "code",
   "execution_count": 66,
   "id": "723a4b4e",
   "metadata": {},
   "outputs": [],
   "source": [
    "#2\n",
    "mean = df[((df.PassengerId >= 23) & (df.PassengerId <= 27))]['Age'].mean()"
   ]
  },
  {
   "cell_type": "code",
   "execution_count": 67,
   "id": "00513a3c",
   "metadata": {},
   "outputs": [
    {
     "name": "stdout",
     "output_type": "stream",
     "text": [
      "212 26.0\n"
     ]
    }
   ],
   "source": [
    "print(f'{max} {mean}')"
   ]
  },
  {
   "cell_type": "markdown",
   "id": "745e01a2",
   "metadata": {},
   "source": [
    "### Задача 2\n",
    "Загрузите данные из файла train_mini.csv в датафрейм df. Определите в процентном соотношении (доля от 1, округленная до двух значений после запятой), сколько человек село на «Титаник» в каждом порту? Поле Embarked хранит порт посадки пассажира на корабль (C — Cherbourg, Q — Queenstown, S — Southampton). Используйте метод value_counts() и параметр normalize для определения доли каждого порта, округлите значение с помощью функции round. Сохраните результат в переменной port и выведите на экран. "
   ]
  },
  {
   "cell_type": "code",
   "execution_count": 68,
   "id": "b22b42ea",
   "metadata": {},
   "outputs": [],
   "source": [
    "port = df['Embarked'].value_counts(normalize=True).round(2)"
   ]
  },
  {
   "cell_type": "code",
   "execution_count": 69,
   "id": "951aeb6b",
   "metadata": {},
   "outputs": [
    {
     "data": {
      "text/plain": [
       "S    0.76\n",
       "C    0.16\n",
       "Q    0.08\n",
       "Name: Embarked, dtype: float64"
      ]
     },
     "execution_count": 69,
     "metadata": {},
     "output_type": "execute_result"
    }
   ],
   "source": [
    "port"
   ]
  },
  {
   "cell_type": "markdown",
   "id": "9eb3550d",
   "metadata": {},
   "source": [
    "### Задача 3\n",
    " 1. Загрузите данные из файла train_mini.csv в датафрейм df. Определите количество незаполненных ячеек в поле 'Age', сохраните это значение в переменной null. \n",
    " 2. Заполните найденные пустые ячейки средним значением от двух других: минимальным и максимальным значением поля 'Age'. Запишите среднее значение, округленное до двух цифр после запятой в переменной mean.\n",
    "\n",
    "Выведите результат работы кода через пробел: null, mean. "
   ]
  },
  {
   "cell_type": "code",
   "execution_count": 70,
   "id": "fe69983e",
   "metadata": {},
   "outputs": [],
   "source": [
    "null = df['Age'].isna().sum()"
   ]
  },
  {
   "cell_type": "code",
   "execution_count": 71,
   "id": "d708519e",
   "metadata": {},
   "outputs": [],
   "source": [
    "mean = round(df['Age'].mean(),2)\n",
    "df['Age'] = df['Age'].fillna(value = mean)"
   ]
  },
  {
   "cell_type": "code",
   "execution_count": 72,
   "id": "6e57874f",
   "metadata": {},
   "outputs": [
    {
     "name": "stdout",
     "output_type": "stream",
     "text": [
      "17 26.39\n"
     ]
    }
   ],
   "source": [
    "print(f'{null} {mean}')"
   ]
  },
  {
   "cell_type": "markdown",
   "id": "930be5ed",
   "metadata": {},
   "source": [
    "### Задача 4\n",
    "Загрузите данные из файла train_mini.csv в датафрейм df. Заполните пустые ячейки поля ‘Age’ медианным значением этого поля. Масштабируйте числовой признак ‘Age’ методом StandardScaler из библиотеки sklearn.preprocessing. Определите возраст пассажира, у которого PassengerId равен 25. Сохраните эту строку в переменной pass25 и выведите её на экран. "
   ]
  },
  {
   "cell_type": "code",
   "execution_count": 73,
   "id": "4eaa1dcd",
   "metadata": {},
   "outputs": [],
   "source": [
    "from sklearn.preprocessing import StandardScaler\n",
    "df = pd.read_csv(\"train_mini.csv\")"
   ]
  },
  {
   "cell_type": "code",
   "execution_count": 74,
   "id": "4c010c26",
   "metadata": {},
   "outputs": [
    {
     "data": {
      "text/html": [
       "<div>\n",
       "<style scoped>\n",
       "    .dataframe tbody tr th:only-of-type {\n",
       "        vertical-align: middle;\n",
       "    }\n",
       "\n",
       "    .dataframe tbody tr th {\n",
       "        vertical-align: top;\n",
       "    }\n",
       "\n",
       "    .dataframe thead th {\n",
       "        text-align: right;\n",
       "    }\n",
       "</style>\n",
       "<table border=\"1\" class=\"dataframe\">\n",
       "  <thead>\n",
       "    <tr style=\"text-align: right;\">\n",
       "      <th></th>\n",
       "      <th>Unnamed: 0</th>\n",
       "      <th>PassengerId</th>\n",
       "      <th>Survived</th>\n",
       "      <th>Pclass</th>\n",
       "      <th>Name</th>\n",
       "      <th>Sex</th>\n",
       "      <th>Age</th>\n",
       "      <th>SibSp</th>\n",
       "      <th>Parch</th>\n",
       "      <th>Ticket</th>\n",
       "      <th>Fare</th>\n",
       "      <th>Cabin</th>\n",
       "      <th>Embarked</th>\n",
       "    </tr>\n",
       "  </thead>\n",
       "  <tbody>\n",
       "    <tr>\n",
       "      <th>0</th>\n",
       "      <td>0</td>\n",
       "      <td>1</td>\n",
       "      <td>0</td>\n",
       "      <td>3</td>\n",
       "      <td>Sage, Master. Thomas Henry</td>\n",
       "      <td>male</td>\n",
       "      <td>27.0</td>\n",
       "      <td>8</td>\n",
       "      <td>2</td>\n",
       "      <td>CA. 2343</td>\n",
       "      <td>69.5500</td>\n",
       "      <td>NaN</td>\n",
       "      <td>S</td>\n",
       "    </tr>\n",
       "    <tr>\n",
       "      <th>1</th>\n",
       "      <td>1</td>\n",
       "      <td>2</td>\n",
       "      <td>0</td>\n",
       "      <td>2</td>\n",
       "      <td>Mallet, Mr. Albert</td>\n",
       "      <td>male</td>\n",
       "      <td>31.0</td>\n",
       "      <td>1</td>\n",
       "      <td>1</td>\n",
       "      <td>S.C./PARIS 2079</td>\n",
       "      <td>37.0042</td>\n",
       "      <td>NaN</td>\n",
       "      <td>C</td>\n",
       "    </tr>\n",
       "    <tr>\n",
       "      <th>2</th>\n",
       "      <td>2</td>\n",
       "      <td>3</td>\n",
       "      <td>0</td>\n",
       "      <td>2</td>\n",
       "      <td>Mudd, Mr. Thomas Charles</td>\n",
       "      <td>male</td>\n",
       "      <td>16.0</td>\n",
       "      <td>0</td>\n",
       "      <td>0</td>\n",
       "      <td>S.O./P.P. 3</td>\n",
       "      <td>10.5000</td>\n",
       "      <td>NaN</td>\n",
       "      <td>S</td>\n",
       "    </tr>\n",
       "    <tr>\n",
       "      <th>3</th>\n",
       "      <td>3</td>\n",
       "      <td>4</td>\n",
       "      <td>1</td>\n",
       "      <td>1</td>\n",
       "      <td>McGough, Mr. James Robert</td>\n",
       "      <td>male</td>\n",
       "      <td>36.0</td>\n",
       "      <td>0</td>\n",
       "      <td>0</td>\n",
       "      <td>PC 17473</td>\n",
       "      <td>26.2875</td>\n",
       "      <td>E25</td>\n",
       "      <td>S</td>\n",
       "    </tr>\n",
       "    <tr>\n",
       "      <th>4</th>\n",
       "      <td>4</td>\n",
       "      <td>5</td>\n",
       "      <td>1</td>\n",
       "      <td>1</td>\n",
       "      <td>Bazzani, Miss. Albina</td>\n",
       "      <td>female</td>\n",
       "      <td>32.0</td>\n",
       "      <td>0</td>\n",
       "      <td>0</td>\n",
       "      <td>11813</td>\n",
       "      <td>76.2917</td>\n",
       "      <td>D15</td>\n",
       "      <td>C</td>\n",
       "    </tr>\n",
       "  </tbody>\n",
       "</table>\n",
       "</div>"
      ],
      "text/plain": [
       "   Unnamed: 0  PassengerId  Survived  Pclass                        Name  \\\n",
       "0           0            1         0       3  Sage, Master. Thomas Henry   \n",
       "1           1            2         0       2          Mallet, Mr. Albert   \n",
       "2           2            3         0       2    Mudd, Mr. Thomas Charles   \n",
       "3           3            4         1       1   McGough, Mr. James Robert   \n",
       "4           4            5         1       1       Bazzani, Miss. Albina   \n",
       "\n",
       "      Sex   Age  SibSp  Parch           Ticket     Fare Cabin Embarked  \n",
       "0    male  27.0      8      2         CA. 2343  69.5500   NaN        S  \n",
       "1    male  31.0      1      1  S.C./PARIS 2079  37.0042   NaN        C  \n",
       "2    male  16.0      0      0      S.O./P.P. 3  10.5000   NaN        S  \n",
       "3    male  36.0      0      0         PC 17473  26.2875   E25        S  \n",
       "4  female  32.0      0      0            11813  76.2917   D15        C  "
      ]
     },
     "execution_count": 74,
     "metadata": {},
     "output_type": "execute_result"
    }
   ],
   "source": [
    "median_age = df['Age'].median()\n",
    "df['Age'] = df['Age'].fillna(value = median_age)\n",
    "df.head()"
   ]
  },
  {
   "cell_type": "code",
   "execution_count": 75,
   "id": "448f789a",
   "metadata": {},
   "outputs": [],
   "source": [
    "\n",
    "scaller = StandardScaler()\n",
    "df[['Pclass','Age','SibSp','Parch','Fare']] = scaller.fit_transform(df[['Pclass','Age','SibSp','Parch','Fare']])"
   ]
  },
  {
   "cell_type": "code",
   "execution_count": 76,
   "id": "f43c676e",
   "metadata": {},
   "outputs": [
    {
     "name": "stdout",
     "output_type": "stream",
     "text": [
      "24    0.490995\n",
      "Name: Age, dtype: float64\n"
     ]
    }
   ],
   "source": [
    "pass25 = df[df['PassengerId'] == 25]['Age']\n",
    "print(pass25)"
   ]
  },
  {
   "cell_type": "markdown",
   "id": "d80cc18e",
   "metadata": {},
   "source": [
    "### Задача 5\n",
    "Загрузите данные из файла train_mini.csv в датафрейм df. Масштабируйте числовой признак ‘Fare’ методом MinMaxScaler, из библиотеки sklearn.preprocessing. Найдите стоимость билета (поле ‘Fare’) для пассажира, у которого PassengerId равен 20. Запишите результат в переменную id20 и выведите её на экран. "
   ]
  },
  {
   "cell_type": "code",
   "execution_count": 77,
   "id": "3328f3dc",
   "metadata": {},
   "outputs": [],
   "source": [
    "from sklearn.preprocessing import MinMaxScaler\n",
    "df = pd.read_csv(\"train_mini.csv\")"
   ]
  },
  {
   "cell_type": "code",
   "execution_count": 78,
   "id": "3219cdc7",
   "metadata": {},
   "outputs": [],
   "source": [
    "scaller = MinMaxScaler()\n",
    "df[['Pclass','Age','SibSp','Parch','Fare']] = scaller.fit_transform(df[['Pclass','Age','SibSp','Parch','Fare']])"
   ]
  },
  {
   "cell_type": "code",
   "execution_count": 79,
   "id": "6f7da1ae",
   "metadata": {},
   "outputs": [
    {
     "name": "stdout",
     "output_type": "stream",
     "text": [
      "19    0.073286\n",
      "Name: Fare, dtype: float64\n"
     ]
    }
   ],
   "source": [
    "id20 = df[df['PassengerId'] == 20]['Fare']\n",
    "print(id20)"
   ]
  },
  {
   "cell_type": "markdown",
   "id": "7bff0343",
   "metadata": {},
   "source": [
    "### Задача 6\n",
    "1. Исходный файл train_mini.csv содержит данные обучающей выборки, а файл test_mini.csv — данные контрольной выборки о пассажирах «Титаника». С помощью следующих команд загрузите данные из файлов в датафреймы df и dt:\n",
    "```\n",
    "import pandas as pd\n",
    "df = pd.read_csv(\"train_mini.csv\")\n",
    "dt = pd.read_csv(\"test_mini.csv\")\n",
    "```\n",
    "2. Объедините датафреймы df и dt в один общий датафрейм da и найдите среднее значение для поля 'Fare' в общей выборке da. Запишите полученный результат, округленный до целого значения функцией round() в переменную fare_mean и выведите на экран. "
   ]
  },
  {
   "cell_type": "code",
   "execution_count": 80,
   "id": "5ca0d8c2",
   "metadata": {},
   "outputs": [],
   "source": [
    "import pandas as pd\n",
    "df = pd.read_csv(\"train_mini.csv\")\n",
    "dt = pd.read_csv(\"test_mini.csv\")"
   ]
  },
  {
   "cell_type": "code",
   "execution_count": 81,
   "id": "239bfcf7",
   "metadata": {},
   "outputs": [
    {
     "data": {
      "text/html": [
       "<div>\n",
       "<style scoped>\n",
       "    .dataframe tbody tr th:only-of-type {\n",
       "        vertical-align: middle;\n",
       "    }\n",
       "\n",
       "    .dataframe tbody tr th {\n",
       "        vertical-align: top;\n",
       "    }\n",
       "\n",
       "    .dataframe thead th {\n",
       "        text-align: right;\n",
       "    }\n",
       "</style>\n",
       "<table border=\"1\" class=\"dataframe\">\n",
       "  <thead>\n",
       "    <tr style=\"text-align: right;\">\n",
       "      <th></th>\n",
       "      <th>Unnamed: 0</th>\n",
       "      <th>PassengerId</th>\n",
       "      <th>Survived</th>\n",
       "      <th>Pclass</th>\n",
       "      <th>Name</th>\n",
       "      <th>Sex</th>\n",
       "      <th>Age</th>\n",
       "      <th>SibSp</th>\n",
       "      <th>Parch</th>\n",
       "      <th>Ticket</th>\n",
       "      <th>Fare</th>\n",
       "      <th>Cabin</th>\n",
       "      <th>Embarked</th>\n",
       "    </tr>\n",
       "  </thead>\n",
       "  <tbody>\n",
       "    <tr>\n",
       "      <th>0</th>\n",
       "      <td>0</td>\n",
       "      <td>1</td>\n",
       "      <td>0</td>\n",
       "      <td>3</td>\n",
       "      <td>Sage, Master. Thomas Henry</td>\n",
       "      <td>male</td>\n",
       "      <td>NaN</td>\n",
       "      <td>8</td>\n",
       "      <td>2</td>\n",
       "      <td>CA. 2343</td>\n",
       "      <td>69.5500</td>\n",
       "      <td>NaN</td>\n",
       "      <td>S</td>\n",
       "    </tr>\n",
       "    <tr>\n",
       "      <th>1</th>\n",
       "      <td>1</td>\n",
       "      <td>2</td>\n",
       "      <td>0</td>\n",
       "      <td>2</td>\n",
       "      <td>Mallet, Mr. Albert</td>\n",
       "      <td>male</td>\n",
       "      <td>31.0</td>\n",
       "      <td>1</td>\n",
       "      <td>1</td>\n",
       "      <td>S.C./PARIS 2079</td>\n",
       "      <td>37.0042</td>\n",
       "      <td>NaN</td>\n",
       "      <td>C</td>\n",
       "    </tr>\n",
       "    <tr>\n",
       "      <th>2</th>\n",
       "      <td>2</td>\n",
       "      <td>3</td>\n",
       "      <td>0</td>\n",
       "      <td>2</td>\n",
       "      <td>Mudd, Mr. Thomas Charles</td>\n",
       "      <td>male</td>\n",
       "      <td>16.0</td>\n",
       "      <td>0</td>\n",
       "      <td>0</td>\n",
       "      <td>S.O./P.P. 3</td>\n",
       "      <td>10.5000</td>\n",
       "      <td>NaN</td>\n",
       "      <td>S</td>\n",
       "    </tr>\n",
       "    <tr>\n",
       "      <th>3</th>\n",
       "      <td>3</td>\n",
       "      <td>4</td>\n",
       "      <td>1</td>\n",
       "      <td>1</td>\n",
       "      <td>McGough, Mr. James Robert</td>\n",
       "      <td>male</td>\n",
       "      <td>36.0</td>\n",
       "      <td>0</td>\n",
       "      <td>0</td>\n",
       "      <td>PC 17473</td>\n",
       "      <td>26.2875</td>\n",
       "      <td>E25</td>\n",
       "      <td>S</td>\n",
       "    </tr>\n",
       "    <tr>\n",
       "      <th>4</th>\n",
       "      <td>4</td>\n",
       "      <td>5</td>\n",
       "      <td>1</td>\n",
       "      <td>1</td>\n",
       "      <td>Bazzani, Miss. Albina</td>\n",
       "      <td>female</td>\n",
       "      <td>32.0</td>\n",
       "      <td>0</td>\n",
       "      <td>0</td>\n",
       "      <td>11813</td>\n",
       "      <td>76.2917</td>\n",
       "      <td>D15</td>\n",
       "      <td>C</td>\n",
       "    </tr>\n",
       "  </tbody>\n",
       "</table>\n",
       "</div>"
      ],
      "text/plain": [
       "   Unnamed: 0  PassengerId  Survived  Pclass                        Name  \\\n",
       "0           0            1         0       3  Sage, Master. Thomas Henry   \n",
       "1           1            2         0       2          Mallet, Mr. Albert   \n",
       "2           2            3         0       2    Mudd, Mr. Thomas Charles   \n",
       "3           3            4         1       1   McGough, Mr. James Robert   \n",
       "4           4            5         1       1       Bazzani, Miss. Albina   \n",
       "\n",
       "      Sex   Age  SibSp  Parch           Ticket     Fare Cabin Embarked  \n",
       "0    male   NaN      8      2         CA. 2343  69.5500   NaN        S  \n",
       "1    male  31.0      1      1  S.C./PARIS 2079  37.0042   NaN        C  \n",
       "2    male  16.0      0      0      S.O./P.P. 3  10.5000   NaN        S  \n",
       "3    male  36.0      0      0         PC 17473  26.2875   E25        S  \n",
       "4  female  32.0      0      0            11813  76.2917   D15        C  "
      ]
     },
     "execution_count": 81,
     "metadata": {},
     "output_type": "execute_result"
    }
   ],
   "source": [
    "df.head()"
   ]
  },
  {
   "cell_type": "code",
   "execution_count": 82,
   "id": "8d26d45a",
   "metadata": {},
   "outputs": [],
   "source": [
    "da = pd.concat([df, dt], sort=False)"
   ]
  },
  {
   "cell_type": "code",
   "execution_count": 83,
   "id": "e8974266",
   "metadata": {},
   "outputs": [
    {
     "name": "stdout",
     "output_type": "stream",
     "text": [
      "32\n"
     ]
    }
   ],
   "source": [
    "fare_mean = round(da['Fare'].mean())\n",
    "print(fare_mean)"
   ]
  },
  {
   "cell_type": "markdown",
   "id": "0407aa88",
   "metadata": {},
   "source": [
    "### Задача 7\n",
    "Найдите количеств выживщих человек, севших в каждом из портов (C — Cherbourg, Q — Queenstown, S — Southampton). Информация хранится в поле 'Embarked', используйте метод groupby(). Запишите код-результат в переменную gr и выведите на экран. "
   ]
  },
  {
   "cell_type": "code",
   "execution_count": 90,
   "id": "d16fcd44",
   "metadata": {},
   "outputs": [
    {
     "name": "stdout",
     "output_type": "stream",
     "text": [
      "Embarked\n",
      "C    16\n",
      "Q     8\n",
      "S    75\n",
      "Name: Survived, dtype: int64\n"
     ]
    }
   ],
   "source": [
    "gr = df.groupby(['Embarked'])['Survived'].count()\n",
    "print(gr)"
   ]
  },
  {
   "cell_type": "code",
   "execution_count": null,
   "id": "cf401e01",
   "metadata": {},
   "outputs": [],
   "source": []
  }
 ],
 "metadata": {
  "kernelspec": {
   "display_name": "Python 3 (ipykernel)",
   "language": "python",
   "name": "python3"
  },
  "language_info": {
   "codemirror_mode": {
    "name": "ipython",
    "version": 3
   },
   "file_extension": ".py",
   "mimetype": "text/x-python",
   "name": "python",
   "nbconvert_exporter": "python",
   "pygments_lexer": "ipython3",
   "version": "3.9.7"
  }
 },
 "nbformat": 4,
 "nbformat_minor": 5
}
